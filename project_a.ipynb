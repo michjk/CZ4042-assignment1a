{
 "cells": [
  {
   "cell_type": "markdown",
   "metadata": {},
   "source": [
    "# Assignment A"
   ]
  },
  {
   "cell_type": "markdown",
   "metadata": {},
   "source": [
    "1. Design a 3-layer feedforward neural network consisting of a hidden-layer of 10 neurons having logistic activation function and an output softmax layer. Assume a learning rate 𝛼 = 0.01 and decay parameter 𝛽 = 10−6. Use appropriate scaling of input features"
   ]
  },
  {
   "cell_type": "code",
   "execution_count": 11,
   "metadata": {},
   "outputs": [],
   "source": [
    "import numpy as np\n",
    "import os\n",
    "import theano\n",
    "import theano.tensor as T\n",
    "import matplotlib.pyplot as plt"
   ]
  },
  {
   "cell_type": "markdown",
   "metadata": {},
   "source": [
    "Above code is to import all necessary package. The most important package is Theano for making neural network."
   ]
  },
  {
   "cell_type": "code",
   "execution_count": 12,
   "metadata": {},
   "outputs": [],
   "source": [
    "# scale data\n",
    "def scale(X, X_min, X_max):\n",
    "    return (X - X_min)/(X_max-np.min(X, axis=0))\n",
    "\n",
    "# load dataset\n",
    "def load_data(data_path):\n",
    "    input_txt = np.loadtxt('dataset/sat_train.txt',delimiter=' ')\n",
    "    X, _Y = input_txt[:,:36], input_txt[:,-1].astype(int)\n",
    "    X_min, X_max = np.min(X, axis=0), np.max(X, axis=0)\n",
    "    X = scale(X, X_min, X_max)\n",
    "\n",
    "    _Y[_Y == 7] = 6\n",
    "    Y = np.zeros((_Y.shape[0], 6))\n",
    "    Y[np.arange(_Y.shape[0]), _Y-1] = 1\n",
    "\n",
    "    return X, Y\n"
   ]
  },
  {
   "cell_type": "markdown",
   "metadata": {},
   "source": [
    "These functions are for preprocessing such as loading dataset and scaling. The scale function map the input into range [0,1]"
   ]
  },
  {
   "cell_type": "code",
   "execution_count": 13,
   "metadata": {},
   "outputs": [],
   "source": [
    "# create bias tensor\n",
    "def init_bias(n = 1):\n",
    "    return(theano.shared(np.zeros(n), theano.config.floatX))\n",
    "\n",
    "# create weights tensor\n",
    "def init_weights(n_in=1, n_out=1, logistic=True):\n",
    "    W_values = np.asarray(\n",
    "        np.random.uniform(\n",
    "        low=-np.sqrt(6. / (n_in + n_out)),\n",
    "        high=np.sqrt(6. / (n_in + n_out)),\n",
    "        size=(n_in, n_out)),\n",
    "        dtype=theano.config.floatX\n",
    "        )\n",
    "    if logistic == True:\n",
    "        W_values *= 4\n",
    "    return (theano.shared(value=W_values, name='W', borrow=True))\n",
    "\n",
    "# update parameters\n",
    "def sgd(cost, params, lr=0.01):\n",
    "    grads = T.grad(cost=cost, wrt=params)\n",
    "    updates = []\n",
    "    for p, g in zip(params, grads):\n",
    "        updates.append([p, p - g * lr])\n",
    "    return updates"
   ]
  },
  {
   "cell_type": "markdown",
   "metadata": {},
   "source": [
    "These functions is for initializing weight, bias, and stochastic gradient descent(sgd). The weight is initialized by using uniform distribution function. The upper and lower limit of the function is calculated by specific formula to ensure: \n",
    "<li>The weights are small and near zero to operate in the linear region of the activation function.</li>\n",
    "<li>Preserve the variance of activation and feedback gradients</li>\n",
    "The model use sgd since we train the model with mini-batches."
   ]
  },
  {
   "cell_type": "code",
   "execution_count": 14,
   "metadata": {},
   "outputs": [],
   "source": [
    "def create_3_layer_NN(decay, learning_rate, n_input, n_hidden, n_output):\n",
    "    # theano expressions\n",
    "    X = T.matrix() #features\n",
    "    Y = T.matrix() #output\n",
    "\n",
    "    w1, b1 = init_weights(n_input, n_hidden), init_bias(n_hidden) #weights and biases from input to hidden layer\n",
    "    w2, b2 = init_weights(n_hidden, n_output, logistic=False), init_bias(n_output) #weights and biases from hidden to output layer\n",
    "\n",
    "    # connect layer\n",
    "    h1 = T.nnet.sigmoid(T.dot(X, w1) + b1)\n",
    "    py = T.nnet.softmax(T.dot(h1, w2) + b2)\n",
    "\n",
    "    # decode to category number\n",
    "    y_x = T.argmax(py, axis=1)\n",
    "\n",
    "    cost = T.mean(T.nnet.categorical_crossentropy(py, Y)) + decay*(T.sum(T.sqr(w1)+T.sum(T.sqr(w2))))\n",
    "    params = [w1, b1, w2, b2]\n",
    "    updates = sgd(cost, params, learning_rate)\n",
    "\n",
    "    # compile\n",
    "    train = theano.function(inputs=[X, Y], outputs=cost, updates=updates, allow_input_downcast=True)\n",
    "    predict = theano.function(inputs=[X], outputs=y_x, allow_input_downcast=True)\n",
    "\n",
    "    return train, predict\n"
   ]
  },
  {
   "cell_type": "markdown",
   "metadata": {},
   "source": [
    "This function create a 3 layer multi perceptron neural network. The layers consist of 1 input layer, 1 hidden layer, and 1 output layer. The hidden layer use sigmoid activation function. The output layer use softmax function instead of sigmoid function since the model need to classify input into more than 2 classes while sigmoid function is only for binary classification. Since output layer use softmax function, the cost of the model is calculated by mean multi-class cross-entropy. "
   ]
  },
  {
   "cell_type": "code",
   "execution_count": 16,
   "metadata": {},
   "outputs": [],
   "source": [
    "# suffle data\n",
    "def shuffle_data (samples, labels):\n",
    "    idx = np.arange(samples.shape[0])\n",
    "    np.random.shuffle(idx)\n",
    "    #print  (samples.shape, labels.shape)\n",
    "    samples, labels = samples[idx], labels[idx]\n",
    "    return samples, labels\n",
    "\n",
    "def run_NN_model(train, predict, batch_size, trainX, trainY, testX, testY, epochs):\n",
    "    # train and test\n",
    "    n = len(trainX)\n",
    "    test_accuracy = []\n",
    "    train_cost = []\n",
    "    for i in range(epochs):\n",
    "        if i%100 == 0:\n",
    "            print(\"Epoch: %d\"%i)\n",
    "        \n",
    "        trainX, trainY = shuffle_data(trainX, trainY)\n",
    "        cost = 0.0\n",
    "        for start, end in zip(range(0, n, batch_size), range(batch_size, n, batch_size)):\n",
    "            cost += train(trainX[start:end], trainY[start:end])\n",
    "        train_cost = np.append(train_cost, cost/(n // batch_size))\n",
    "        \n",
    "        test_accuracy = np.append(test_accuracy, np.mean(np.argmax(testY, axis=1) == predict(testX)))\n",
    "\n",
    "    print('%.1f accuracy at %d iterations'%(np.max(test_accuracy)*100, np.argmax(test_accuracy)+1))\n",
    "\n",
    "    return train_cost, test_accuracy\n"
   ]
  },
  {
   "cell_type": "markdown",
   "metadata": {},
   "source": [
    "These functions above are used to run multi layer perceptron in mini-batch."
   ]
  },
  {
   "cell_type": "code",
   "execution_count": 17,
   "metadata": {},
   "outputs": [],
   "source": [
    "def createNewFolder(folder_path):\n",
    "    #Create folder for saving figure\n",
    "    if not os.path.isdir(folder_path):\n",
    "        os.mkdir(folder_path)\n",
    "\n",
    "def draw_plot(listX, listY, labelX, labelY, title, save_folder_path, file_name):\n",
    "    createNewFolder(save_folder_path)\n",
    "\n",
    "    plt.figure()\n",
    "    plt.plot(listX, listY)\n",
    "    plt.xlabel(labelX)\n",
    "    plt.ylabel(labelY)\n",
    "    plt.title(title)\n",
    "    plt.savefig(os.path.join(save_folder_path, file_name))\n",
    "    plt.show()\n",
    "\n",
    "def draw_multi_plot(listX, dict_listY, labelX, labelY, list_plot_label, prefix_plot_label, title, save_folder_path, file_name):\n",
    "    createNewFolder(save_folder_path)\n",
    "\n",
    "    plt.figure()\n",
    "\n",
    "    for plot_label in list_plot_label:\n",
    "        plt.plot(listX, dict_listY[plot_label], label=prefix_plot_label+str(plot_label))\n",
    "    \n",
    "    plt.xlabel(labelX)\n",
    "    plt.ylabel(labelY)\n",
    "    plt.title(title)\n",
    "    plt.savefig(os.path.join(save_folder_path, file_name))\n",
    "    plt.show()\n"
   ]
  },
  {
   "cell_type": "markdown",
   "metadata": {},
   "source": [
    "These code above are for visualization purpose. There are 2 kind of ploting used in this experiment. The first one is one line plot and the second one is multi line plot."
   ]
  },
  {
   "cell_type": "code",
   "execution_count": 18,
   "metadata": {},
   "outputs": [],
   "source": [
    "decay = 1e-6\n",
    "learning_rate = 0.01\n",
    "n_input = 36\n",
    "n_hidden = 10\n",
    "n_output = 6\n",
    "epochs = 1000\n",
    "batch_size = 32\n",
    "dataset_dir_path = \"dataset\"\n",
    "train_data_path = os.path.join(dataset_dir_path, \"sat_train.txt\")\n",
    "test_data_path = os.path.join(dataset_dir_path, \"sat_test.txt\")\n",
    "figure_dir_path = \"figure\"\n"
   ]
  },
  {
   "cell_type": "markdown",
   "metadata": {},
   "source": [
    "All variable above are prepared in case of training model with different data and parameter. The next section is to test the neural network by runnning it. The plot figures and saved inside figure folder."
   ]
  },
  {
   "cell_type": "code",
   "execution_count": 20,
   "metadata": {},
   "outputs": [
    {
     "name": "stdout",
     "output_type": "stream",
     "text": [
      "((4435, 36), (4435, 6))\n",
      "((4435, 36), (4435, 6))\n",
      "Epoch: 0\n",
      "Epoch: 100\n",
      "Epoch: 200\n",
      "Epoch: 300\n",
      "Epoch: 400\n",
      "Epoch: 500\n",
      "Epoch: 600\n",
      "Epoch: 700\n",
      "Epoch: 800\n",
      "Epoch: 900\n",
      "85.1 accuracy at 997 iterations\n"
     ]
    },
    {
     "data": {
      "image/png": "[encoded data removed]",
      "text/plain": [
       "<matplotlib.figure.Figure at 0x7fd37a57c910>"
      ]
     },
     "metadata": {},
     "output_type": "display_data"
    },
    {
     "data": {
      "image/png": "[encoded data removed]",
      "text/plain": [
       "<matplotlib.figure.Figure at 0x7fd37a57cd90>"
      ]
     },
     "metadata": {},
     "output_type": "display_data"
    }
   ],
   "source": [
    "#read train data\n",
    "trainX, trainY = load_data(train_data_path)\n",
    "\n",
    "#read test data\n",
    "testX, testY = load_data(test_data_path)\n",
    "\n",
    "print(trainX.shape, trainY.shape)\n",
    "print(testX.shape, testY.shape)\n",
    "\n",
    "#create train and predict function\n",
    "train, predict = create_3_layer_NN(decay, learning_rate, n_input, n_hidden, n_output)\n",
    "\n",
    "# train and test\n",
    "train_cost, test_accuracy = run_NN_model(train, predict, batch_size, trainX, trainY, testX, testY, epochs)\n",
    "\n",
    "#Plots\n",
    "%matplotlib inline\n",
    "draw_plot(range(epochs), train_cost, 'iteration', 'cross-entropy', 'training cost', figure_dir_path, 'pa1_cost.png')\n",
    "draw_plot(range(epochs), test_accuracy, 'iteration', 'accuracy', 'test accuracy', figure_dir_path, 'pa1_accuracy.png')\n"
   ]
  },
  {
   "cell_type": "code",
   "execution_count": null,
   "metadata": {},
   "outputs": [],
   "source": []
  }
 ],
 "metadata": {
  "kernelspec": {
   "display_name": "assignment1",
   "language": "python",
   "name": "assignment1"
  },
  "language_info": {
   "codemirror_mode": {
    "name": "ipython",
    "version": 2
   },
   "file_extension": ".py",
   "mimetype": "text/x-python",
   "name": "python",
   "nbconvert_exporter": "python",
   "pygments_lexer": "ipython2",
   "version": "2.7.12"
  }
 },
 "nbformat": 4,
 "nbformat_minor": 2
}
